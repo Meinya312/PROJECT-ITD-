{
 "cells": [
  {
   "cell_type": "code",
   "execution_count": 3,
   "id": "99659c72",
   "metadata": {},
   "outputs": [],
   "source": [
    "import seaborn as sns\n",
    "import numpy as np \n",
    "import pandas as pd \n",
    "import matplotlib.pyplot as plt\n",
    "import warnings \n",
    "warnings.filterwarnings('ignore')"
   ]
  },
  {
   "cell_type": "code",
   "execution_count": 4,
   "id": "142412c4",
   "metadata": {},
   "outputs": [],
   "source": [
    "cencus = pd.read_csv(\"Family Income and Expenditure.csv\")"
   ]
  },
  {
   "cell_type": "code",
   "execution_count": 5,
   "id": "e04974ac",
   "metadata": {},
   "outputs": [
    {
     "data": {
      "text/html": [
       "<div>\n",
       "<style scoped>\n",
       "    .dataframe tbody tr th:only-of-type {\n",
       "        vertical-align: middle;\n",
       "    }\n",
       "\n",
       "    .dataframe tbody tr th {\n",
       "        vertical-align: top;\n",
       "    }\n",
       "\n",
       "    .dataframe thead th {\n",
       "        text-align: right;\n",
       "    }\n",
       "</style>\n",
       "<table border=\"1\" class=\"dataframe\">\n",
       "  <thead>\n",
       "    <tr style=\"text-align: right;\">\n",
       "      <th></th>\n",
       "      <th>Total Household Income</th>\n",
       "      <th>Region</th>\n",
       "      <th>Total Food Expenditure</th>\n",
       "      <th>Main Source of Income</th>\n",
       "      <th>Agricultural Household indicator</th>\n",
       "      <th>Bread and Cereals Expenditure</th>\n",
       "      <th>Total Rice Expenditure</th>\n",
       "      <th>Meat Expenditure</th>\n",
       "      <th>Total Fish and  marine products Expenditure</th>\n",
       "      <th>Fruit Expenditure</th>\n",
       "      <th>...</th>\n",
       "      <th>Number of Refrigerator/Freezer</th>\n",
       "      <th>Number of Washing Machine</th>\n",
       "      <th>Number of Airconditioner</th>\n",
       "      <th>Number of Car, Jeep, Van</th>\n",
       "      <th>Number of Landline/wireless telephones</th>\n",
       "      <th>Number of Cellular phone</th>\n",
       "      <th>Number of Personal Computer</th>\n",
       "      <th>Number of Stove with Oven/Gas Range</th>\n",
       "      <th>Number of Motorized Banca</th>\n",
       "      <th>Number of Motorcycle/Tricycle</th>\n",
       "    </tr>\n",
       "  </thead>\n",
       "  <tbody>\n",
       "    <tr>\n",
       "      <th>0</th>\n",
       "      <td>480332</td>\n",
       "      <td>CAR</td>\n",
       "      <td>117848</td>\n",
       "      <td>Wage/Salaries</td>\n",
       "      <td>0</td>\n",
       "      <td>42140</td>\n",
       "      <td>38300</td>\n",
       "      <td>24676</td>\n",
       "      <td>16806</td>\n",
       "      <td>3325</td>\n",
       "      <td>...</td>\n",
       "      <td>1</td>\n",
       "      <td>1</td>\n",
       "      <td>0</td>\n",
       "      <td>0</td>\n",
       "      <td>0</td>\n",
       "      <td>2</td>\n",
       "      <td>1</td>\n",
       "      <td>0</td>\n",
       "      <td>0</td>\n",
       "      <td>1</td>\n",
       "    </tr>\n",
       "    <tr>\n",
       "      <th>1</th>\n",
       "      <td>198235</td>\n",
       "      <td>CAR</td>\n",
       "      <td>67766</td>\n",
       "      <td>Wage/Salaries</td>\n",
       "      <td>0</td>\n",
       "      <td>17329</td>\n",
       "      <td>13008</td>\n",
       "      <td>17434</td>\n",
       "      <td>11073</td>\n",
       "      <td>2035</td>\n",
       "      <td>...</td>\n",
       "      <td>0</td>\n",
       "      <td>1</td>\n",
       "      <td>0</td>\n",
       "      <td>0</td>\n",
       "      <td>0</td>\n",
       "      <td>3</td>\n",
       "      <td>1</td>\n",
       "      <td>0</td>\n",
       "      <td>0</td>\n",
       "      <td>2</td>\n",
       "    </tr>\n",
       "    <tr>\n",
       "      <th>2</th>\n",
       "      <td>82785</td>\n",
       "      <td>CAR</td>\n",
       "      <td>61609</td>\n",
       "      <td>Wage/Salaries</td>\n",
       "      <td>1</td>\n",
       "      <td>34182</td>\n",
       "      <td>32001</td>\n",
       "      <td>7783</td>\n",
       "      <td>2590</td>\n",
       "      <td>1730</td>\n",
       "      <td>...</td>\n",
       "      <td>0</td>\n",
       "      <td>0</td>\n",
       "      <td>0</td>\n",
       "      <td>0</td>\n",
       "      <td>0</td>\n",
       "      <td>0</td>\n",
       "      <td>0</td>\n",
       "      <td>0</td>\n",
       "      <td>0</td>\n",
       "      <td>0</td>\n",
       "    </tr>\n",
       "    <tr>\n",
       "      <th>3</th>\n",
       "      <td>107589</td>\n",
       "      <td>CAR</td>\n",
       "      <td>78189</td>\n",
       "      <td>Wage/Salaries</td>\n",
       "      <td>0</td>\n",
       "      <td>34030</td>\n",
       "      <td>28659</td>\n",
       "      <td>10914</td>\n",
       "      <td>10812</td>\n",
       "      <td>690</td>\n",
       "      <td>...</td>\n",
       "      <td>0</td>\n",
       "      <td>0</td>\n",
       "      <td>0</td>\n",
       "      <td>0</td>\n",
       "      <td>0</td>\n",
       "      <td>1</td>\n",
       "      <td>0</td>\n",
       "      <td>0</td>\n",
       "      <td>0</td>\n",
       "      <td>0</td>\n",
       "    </tr>\n",
       "    <tr>\n",
       "      <th>4</th>\n",
       "      <td>189322</td>\n",
       "      <td>CAR</td>\n",
       "      <td>94625</td>\n",
       "      <td>Wage/Salaries</td>\n",
       "      <td>0</td>\n",
       "      <td>34820</td>\n",
       "      <td>30167</td>\n",
       "      <td>18391</td>\n",
       "      <td>11309</td>\n",
       "      <td>1395</td>\n",
       "      <td>...</td>\n",
       "      <td>1</td>\n",
       "      <td>0</td>\n",
       "      <td>0</td>\n",
       "      <td>0</td>\n",
       "      <td>0</td>\n",
       "      <td>3</td>\n",
       "      <td>0</td>\n",
       "      <td>0</td>\n",
       "      <td>0</td>\n",
       "      <td>1</td>\n",
       "    </tr>\n",
       "  </tbody>\n",
       "</table>\n",
       "<p>5 rows × 60 columns</p>\n",
       "</div>"
      ],
      "text/plain": [
       "   Total Household Income Region  Total Food Expenditure  \\\n",
       "0                  480332    CAR                  117848   \n",
       "1                  198235    CAR                   67766   \n",
       "2                   82785    CAR                   61609   \n",
       "3                  107589    CAR                   78189   \n",
       "4                  189322    CAR                   94625   \n",
       "\n",
       "  Main Source of Income  Agricultural Household indicator  \\\n",
       "0         Wage/Salaries                                 0   \n",
       "1         Wage/Salaries                                 0   \n",
       "2         Wage/Salaries                                 1   \n",
       "3         Wage/Salaries                                 0   \n",
       "4         Wage/Salaries                                 0   \n",
       "\n",
       "   Bread and Cereals Expenditure  Total Rice Expenditure  Meat Expenditure  \\\n",
       "0                          42140                   38300             24676   \n",
       "1                          17329                   13008             17434   \n",
       "2                          34182                   32001              7783   \n",
       "3                          34030                   28659             10914   \n",
       "4                          34820                   30167             18391   \n",
       "\n",
       "   Total Fish and  marine products Expenditure  Fruit Expenditure  ...  \\\n",
       "0                                        16806               3325  ...   \n",
       "1                                        11073               2035  ...   \n",
       "2                                         2590               1730  ...   \n",
       "3                                        10812                690  ...   \n",
       "4                                        11309               1395  ...   \n",
       "\n",
       "   Number of Refrigerator/Freezer  Number of Washing Machine  \\\n",
       "0                               1                          1   \n",
       "1                               0                          1   \n",
       "2                               0                          0   \n",
       "3                               0                          0   \n",
       "4                               1                          0   \n",
       "\n",
       "   Number of Airconditioner  Number of Car, Jeep, Van  \\\n",
       "0                         0                         0   \n",
       "1                         0                         0   \n",
       "2                         0                         0   \n",
       "3                         0                         0   \n",
       "4                         0                         0   \n",
       "\n",
       "   Number of Landline/wireless telephones  Number of Cellular phone  \\\n",
       "0                                       0                         2   \n",
       "1                                       0                         3   \n",
       "2                                       0                         0   \n",
       "3                                       0                         1   \n",
       "4                                       0                         3   \n",
       "\n",
       "   Number of Personal Computer  Number of Stove with Oven/Gas Range  \\\n",
       "0                            1                                    0   \n",
       "1                            1                                    0   \n",
       "2                            0                                    0   \n",
       "3                            0                                    0   \n",
       "4                            0                                    0   \n",
       "\n",
       "   Number of Motorized Banca  Number of Motorcycle/Tricycle  \n",
       "0                          0                              1  \n",
       "1                          0                              2  \n",
       "2                          0                              0  \n",
       "3                          0                              0  \n",
       "4                          0                              1  \n",
       "\n",
       "[5 rows x 60 columns]"
      ]
     },
     "execution_count": 5,
     "metadata": {},
     "output_type": "execute_result"
    }
   ],
   "source": [
    "cencus.head(5)"
   ]
  },
  {
   "cell_type": "code",
   "execution_count": 6,
   "id": "4aeee85e",
   "metadata": {},
   "outputs": [
    {
     "data": {
      "text/plain": [
       "Region\n",
       "IVA - CALABARZON             4162\n",
       "NCR                          4130\n",
       "III - Central Luzon          3237\n",
       "VI - Western Visayas         2851\n",
       "VII - Central Visayas        2541\n",
       "V - Bicol Region             2472\n",
       "XI - Davao Region            2446\n",
       "I - Ilocos Region            2348\n",
       "VIII - Eastern Visayas       2337\n",
       " ARMM                        2248\n",
       "II - Cagayan Valley          2219\n",
       "XII - SOCCSKSARGEN           2122\n",
       "X - Northern Mindanao        1887\n",
       "IX - Zasmboanga Peninsula    1788\n",
       "Caraga                       1782\n",
       "CAR                          1725\n",
       "IVB - MIMAROPA               1249\n",
       "Name: count, dtype: int64"
      ]
     },
     "execution_count": 6,
     "metadata": {},
     "output_type": "execute_result"
    }
   ],
   "source": [
    "cencus['Region'].value_counts()"
   ]
  },
  {
   "cell_type": "code",
   "execution_count": 7,
   "id": "04ef8095",
   "metadata": {},
   "outputs": [
    {
     "data": {
      "text/plain": [
       "Main Source of Income\n",
       "Wage/Salaries                 20388\n",
       "Other sources of Income       10836\n",
       "Enterpreneurial Activities    10320\n",
       "Name: count, dtype: int64"
      ]
     },
     "execution_count": 7,
     "metadata": {},
     "output_type": "execute_result"
    }
   ],
   "source": [
    "cencus['Main Source of Income'].value_counts()"
   ]
  },
  {
   "cell_type": "code",
   "execution_count": 8,
   "id": "c33be14b",
   "metadata": {},
   "outputs": [
    {
     "data": {
      "text/plain": [
       "Bread and Cereals Expenditure\n",
       "0        15\n",
       "20734     9\n",
       "8758      8\n",
       "15520     8\n",
       "21930     8\n",
       "         ..\n",
       "24887     1\n",
       "8196      1\n",
       "16396     1\n",
       "11196     1\n",
       "16430     1\n",
       "Name: count, Length: 26082, dtype: int64"
      ]
     },
     "execution_count": 8,
     "metadata": {},
     "output_type": "execute_result"
    }
   ],
   "source": [
    "cencus['Bread and Cereals Expenditure'].value_counts()"
   ]
  },
  {
   "cell_type": "code",
   "execution_count": 9,
   "id": "7569ae63",
   "metadata": {},
   "outputs": [
    {
     "data": {
      "text/plain": [
       "Total Rice Expenditure\n",
       "0        715\n",
       "11700     95\n",
       "14480     94\n",
       "15600     92\n",
       "10400     89\n",
       "        ... \n",
       "25190      1\n",
       "36312      1\n",
       "43239      1\n",
       "39217      1\n",
       "38213      1\n",
       "Name: count, Length: 16145, dtype: int64"
      ]
     },
     "execution_count": 9,
     "metadata": {},
     "output_type": "execute_result"
    }
   ],
   "source": [
    "cencus['Total Rice Expenditure'].value_counts()"
   ]
  },
  {
   "cell_type": "code",
   "execution_count": 10,
   "id": "1b25b6d6",
   "metadata": {},
   "outputs": [
    {
     "data": {
      "text/plain": [
       "Meat Expenditure\n",
       "0        346\n",
       "900       41\n",
       "1620      39\n",
       "1740      38\n",
       "960       33\n",
       "        ... \n",
       "1763       1\n",
       "4246       1\n",
       "2779       1\n",
       "8693       1\n",
       "16123      1\n",
       "Name: count, Length: 18619, dtype: int64"
      ]
     },
     "execution_count": 10,
     "metadata": {},
     "output_type": "execute_result"
    }
   ],
   "source": [
    "cencus['Meat Expenditure'].value_counts()"
   ]
  },
  {
   "cell_type": "code",
   "execution_count": 11,
   "id": "f363828b",
   "metadata": {},
   "outputs": [
    {
     "data": {
      "text/plain": [
       "Transportation Expenditure\n",
       "0        309\n",
       "1200     266\n",
       "2400     232\n",
       "1800     222\n",
       "960      217\n",
       "        ... \n",
       "27348      1\n",
       "19734      1\n",
       "37176      1\n",
       "24426      1\n",
       "91500      1\n",
       "Name: count, Length: 7435, dtype: int64"
      ]
     },
     "execution_count": 11,
     "metadata": {},
     "output_type": "execute_result"
    }
   ],
   "source": [
    "cencus['Transportation Expenditure'].value_counts()"
   ]
  },
  {
   "cell_type": "code",
   "execution_count": 12,
   "id": "fd6c0f49",
   "metadata": {},
   "outputs": [
    {
     "data": {
      "text/plain": [
       "0         44370\n",
       "1             0\n",
       "2             0\n",
       "3         15580\n",
       "4         75687\n",
       "          ...  \n",
       "41539     94120\n",
       "41540     78270\n",
       "41541     98545\n",
       "41542    107435\n",
       "41543    105547\n",
       "Name: Total Income from Entrepreneurial Acitivites, Length: 41544, dtype: int64"
      ]
     },
     "execution_count": 12,
     "metadata": {},
     "output_type": "execute_result"
    }
   ],
   "source": [
    "cencus['Total Income from Entrepreneurial Acitivites']"
   ]
  },
  {
   "cell_type": "code",
   "execution_count": 13,
   "id": "2656e2ba",
   "metadata": {},
   "outputs": [
    {
     "data": {
      "text/plain": [
       "Household Head Sex\n",
       "Male      32483\n",
       "Female     9061\n",
       "Name: count, dtype: int64"
      ]
     },
     "execution_count": 13,
     "metadata": {},
     "output_type": "execute_result"
    }
   ],
   "source": [
    "cencus['Household Head Sex'].value_counts()"
   ]
  },
  {
   "cell_type": "code",
   "execution_count": 14,
   "id": "5c2471ac",
   "metadata": {},
   "outputs": [
    {
     "data": {
      "text/plain": [
       "Household Head Age\n",
       "53    1146\n",
       "46    1140\n",
       "45    1133\n",
       "49    1123\n",
       "50    1123\n",
       "      ... \n",
       "97       3\n",
       "13       2\n",
       "10       1\n",
       "14       1\n",
       "9        1\n",
       "Name: count, Length: 89, dtype: int64"
      ]
     },
     "execution_count": 14,
     "metadata": {},
     "output_type": "execute_result"
    }
   ],
   "source": [
    "cencus['Household Head Age'].value_counts()"
   ]
  },
  {
   "cell_type": "code",
   "execution_count": 15,
   "id": "4d0b7aa1",
   "metadata": {},
   "outputs": [
    {
     "data": {
      "text/plain": [
       "Household Head Marital Status\n",
       "Married               31347\n",
       "Widowed                6818\n",
       "Single                 1942\n",
       "Divorced/Separated     1425\n",
       "Annulled                 11\n",
       "Unknown                   1\n",
       "Name: count, dtype: int64"
      ]
     },
     "execution_count": 15,
     "metadata": {},
     "output_type": "execute_result"
    }
   ],
   "source": [
    "cencus['Household Head Marital Status'].value_counts()"
   ]
  },
  {
   "cell_type": "code",
   "execution_count": 16,
   "id": "fd272f9d",
   "metadata": {},
   "outputs": [
    {
     "data": {
      "text/plain": [
       "Household Head Highest Grade Completed\n",
       "High School Graduate                                                                                                                                                                                                   9628\n",
       "Elementary Graduate                                                                                                                                                                                                    7640\n",
       "Grade 4                                                                                                                                                                                                                2282\n",
       "Grade 5                                                                                                                                                                                                                2123\n",
       "Second Year High School                                                                                                                                                                                                2104\n",
       "Grade 3                                                                                                                                                                                                                1994\n",
       "Third Year High School                                                                                                                                                                                                 1545\n",
       "Business and Administration Programs                                                                                                                                                                                   1344\n",
       "Second Year College                                                                                                                                                                                                    1343\n",
       "Grade 2                                                                                                                                                                                                                1311\n",
       "First Year High School                                                                                                                                                                                                 1247\n",
       "No Grade Completed                                                                                                                                                                                                     1228\n",
       "Third Year College                                                                                                                                                                                                      924\n",
       "Teacher Training and Education Sciences Programs                                                                                                                                                                        922\n",
       "First Year College                                                                                                                                                                                                      907\n",
       "Grade 1                                                                                                                                                                                                                 874\n",
       "Engineering and Engineering Trades Programs                                                                                                                                                                             777\n",
       "Engineering and Engineering trades Programs                                                                                                                                                                             522\n",
       "Health Programs                                                                                                                                                                                                         339\n",
       "Computing/Information Technology Programs                                                                                                                                                                               293\n",
       "Security Services Programs                                                                                                                                                                                              252\n",
       "Post Baccalaureate                                                                                                                                                                                                      247\n",
       "Grade 6                                                                                                                                                                                                                 237\n",
       "Agriculture, Forestry, and Fishery Programs                                                                                                                                                                             230\n",
       "Transport Services Programs                                                                                                                                                                                             225\n",
       "Second Year Post Secondary                                                                                                                                                                                              140\n",
       "Social and Behavioral Science Programs                                                                                                                                                                                  132\n",
       "Fourth Year College                                                                                                                                                                                                     124\n",
       "First Year Post Secondary                                                                                                                                                                                               115\n",
       "Personal Services Programs                                                                                                                                                                                               89\n",
       "Humanities Programs                                                                                                                                                                                                      75\n",
       "Other Programs in Education at the Third Level, First Stage, of the Type that Leads to an Award not Equivalent to a First University or Baccalaureate Degree                                                             66\n",
       "Law Programs                                                                                                                                                                                                             39\n",
       "Basic Programs                                                                                                                                                                                                           33\n",
       "Architecture and Building Programs                                                                                                                                                                                       33\n",
       "Journalism and Information Programs                                                                                                                                                                                      31\n",
       "Arts Programs                                                                                                                                                                                                            23\n",
       "Life Sciences Programs                                                                                                                                                                                                   19\n",
       "Preschool                                                                                                                                                                                                                15\n",
       "Manufacturing and Processing Programs                                                                                                                                                                                    15\n",
       "Mathematics and Statistics Programs                                                                                                                                                                                      11\n",
       "Social Services Programs                                                                                                                                                                                                 11\n",
       "Other Programs of Education at the Third Level, First Stage, of the Type that Leads to a Baccalaureate or First University/Professional Degree (HIgher Education Level, First Stage, or Collegiate Education Level)       9\n",
       "Physical Sciences Programs                                                                                                                                                                                                9\n",
       "Veterinary Programs                                                                                                                                                                                                       9\n",
       "Environmental Protection Programs                                                                                                                                                                                         8\n",
       "Name: count, dtype: int64"
      ]
     },
     "execution_count": 16,
     "metadata": {},
     "output_type": "execute_result"
    }
   ],
   "source": [
    "cencus['Household Head Highest Grade Completed'].value_counts()"
   ]
  },
  {
   "cell_type": "code",
   "execution_count": 17,
   "id": "dff176f3",
   "metadata": {},
   "outputs": [
    {
     "data": {
      "text/plain": [
       "Household Head Job or Business Indicator\n",
       "With Job/Business    34008\n",
       "No Job/Business       7536\n",
       "Name: count, dtype: int64"
      ]
     },
     "execution_count": 17,
     "metadata": {},
     "output_type": "execute_result"
    }
   ],
   "source": [
    "cencus['Household Head Job or Business Indicator'].value_counts()"
   ]
  },
  {
   "cell_type": "code",
   "execution_count": 18,
   "id": "3232fb17",
   "metadata": {},
   "outputs": [
    {
     "data": {
      "text/plain": [
       "Household Head Occupation\n",
       "Farmhands and laborers                                                                 3478\n",
       "Rice farmers                                                                           2849\n",
       "General managers/managing proprietors in wholesale and retail trade                    2028\n",
       "General managers/managing proprietors in transportation, storage and communications    1932\n",
       "Corn farmers                                                                           1724\n",
       "                                                                                       ... \n",
       "Coding, proof-reading and related clerks                                                  1\n",
       "Advertising and public relations managers                                                 1\n",
       "Wood treaters                                                                             1\n",
       "Aircraft pilots, navigators and flight engineers                                          1\n",
       "Glass, ceramics and related plant operators n. e. c.                                      1\n",
       "Name: count, Length: 378, dtype: int64"
      ]
     },
     "execution_count": 18,
     "metadata": {},
     "output_type": "execute_result"
    }
   ],
   "source": [
    "cencus['Household Head Occupation'].value_counts()"
   ]
  },
  {
   "cell_type": "code",
   "execution_count": 19,
   "id": "91c4da7e",
   "metadata": {},
   "outputs": [
    {
     "data": {
      "text/plain": [
       "Household Head Class of Worker\n",
       "Self-employed wihout any employee                             13766\n",
       "Worked for private establishment                              13731\n",
       "Worked for government/government corporation                   2820\n",
       "Employer in own family-operated farm or business               2581\n",
       "Worked for private household                                    811\n",
       "Worked without pay in own family-operated farm or business      285\n",
       "Worked with pay in own family-operated farm or business          14\n",
       "Name: count, dtype: int64"
      ]
     },
     "execution_count": 19,
     "metadata": {},
     "output_type": "execute_result"
    }
   ],
   "source": [
    "cencus['Household Head Class of Worker'].value_counts()"
   ]
  },
  {
   "cell_type": "code",
   "execution_count": 20,
   "id": "29c426f8",
   "metadata": {},
   "outputs": [
    {
     "data": {
      "text/plain": [
       "Type of Household\n",
       "Single Family                             28445\n",
       "Extended Family                           12932\n",
       "Two or More Nonrelated Persons/Members      167\n",
       "Name: count, dtype: int64"
      ]
     },
     "execution_count": 20,
     "metadata": {},
     "output_type": "execute_result"
    }
   ],
   "source": [
    "cencus['Type of Household'].value_counts()"
   ]
  },
  {
   "cell_type": "code",
   "execution_count": 21,
   "id": "11df3f90",
   "metadata": {},
   "outputs": [
    {
     "data": {
      "text/plain": [
       "Total Number of Family members\n",
       "4     7921\n",
       "5     7165\n",
       "3     6509\n",
       "6     5222\n",
       "2     4659\n",
       "7     3222\n",
       "1     2511\n",
       "8     1984\n",
       "9     1063\n",
       "10     621\n",
       "11     311\n",
       "12     156\n",
       "13      80\n",
       "14      51\n",
       "15      36\n",
       "16      14\n",
       "17       7\n",
       "18       5\n",
       "20       4\n",
       "19       2\n",
       "26       1\n",
       "Name: count, dtype: int64"
      ]
     },
     "execution_count": 21,
     "metadata": {},
     "output_type": "execute_result"
    }
   ],
   "source": [
    "cencus['Total Number of Family members'].value_counts()"
   ]
  },
  {
   "cell_type": "code",
   "execution_count": 22,
   "id": "cd390f4b",
   "metadata": {},
   "outputs": [
    {
     "data": {
      "text/plain": [
       "Members with age less than 5 year old\n",
       "0    28705\n",
       "1     9317\n",
       "2     2933\n",
       "3      511\n",
       "4       64\n",
       "5       14\n",
       "Name: count, dtype: int64"
      ]
     },
     "execution_count": 22,
     "metadata": {},
     "output_type": "execute_result"
    }
   ],
   "source": [
    "cencus['Members with age less than 5 year old'].value_counts()"
   ]
  },
  {
   "cell_type": "code",
   "execution_count": 23,
   "id": "96508638",
   "metadata": {},
   "outputs": [
    {
     "data": {
      "text/plain": [
       "Members with age 5 - 17 years old\n",
       "0    14802\n",
       "1    10445\n",
       "2     8111\n",
       "3     4704\n",
       "4     2152\n",
       "5      896\n",
       "6      318\n",
       "7       96\n",
       "8       20\n",
       "Name: count, dtype: int64"
      ]
     },
     "execution_count": 23,
     "metadata": {},
     "output_type": "execute_result"
    }
   ],
   "source": [
    "cencus['Members with age 5 - 17 years old'].value_counts()"
   ]
  },
  {
   "cell_type": "code",
   "execution_count": 24,
   "id": "4a889573",
   "metadata": {},
   "outputs": [
    {
     "data": {
      "text/plain": [
       "Total number of family members employed\n",
       "1    15312\n",
       "0    11494\n",
       "2     9303\n",
       "3     3579\n",
       "4     1280\n",
       "5      415\n",
       "6      116\n",
       "7       33\n",
       "8       12\n",
       "Name: count, dtype: int64"
      ]
     },
     "execution_count": 24,
     "metadata": {},
     "output_type": "execute_result"
    }
   ],
   "source": [
    "cencus['Total number of family members employed'].value_counts()"
   ]
  },
  {
   "cell_type": "code",
   "execution_count": 25,
   "id": "9e39b1c7",
   "metadata": {},
   "outputs": [
    {
     "data": {
      "text/plain": [
       "Type of Building/House\n",
       "Single house                                   39069\n",
       "Multi-unit residential                          1329\n",
       "Duplex                                          1084\n",
       "Commercial/industrial/agricultural building       51\n",
       "Institutional living quarter                       9\n",
       "Other building unit (e.g. cave, boat)              2\n",
       "Name: count, dtype: int64"
      ]
     },
     "execution_count": 25,
     "metadata": {},
     "output_type": "execute_result"
    }
   ],
   "source": [
    "cencus['Type of Building/House'].value_counts()"
   ]
  },
  {
   "cell_type": "code",
   "execution_count": 26,
   "id": "24c61827",
   "metadata": {},
   "outputs": [
    {
     "data": {
      "text/plain": [
       "Type of Roof\n",
       "Strong material(galvanized,iron,al,tile,concrete,brick,stone,asbestos)    33342\n",
       "Light material (cogon,nipa,anahaw)                                         5074\n",
       "Mixed but predominantly strong materials                                   2002\n",
       "Mixed but predominantly light materials                                     846\n",
       "Salvaged/makeshift materials                                                212\n",
       "Mixed but predominantly salvaged materials                                   56\n",
       "Not Applicable                                                               12\n",
       "Name: count, dtype: int64"
      ]
     },
     "execution_count": 26,
     "metadata": {},
     "output_type": "execute_result"
    }
   ],
   "source": [
    "cencus['Type of Roof'].value_counts()"
   ]
  },
  {
   "cell_type": "code",
   "execution_count": 27,
   "id": "f4d6cbe8",
   "metadata": {},
   "outputs": [
    {
     "data": {
      "text/plain": [
       "Type of Walls\n",
       "Strong            27739\n",
       "Light              8267\n",
       "Quite Strong       3487\n",
       "Very Light         1583\n",
       "Salvaged            456\n",
       "NOt applicable       12\n",
       "Name: count, dtype: int64"
      ]
     },
     "execution_count": 27,
     "metadata": {},
     "output_type": "execute_result"
    }
   ],
   "source": [
    "cencus['Type of Walls'].value_counts()"
   ]
  },
  {
   "cell_type": "code",
   "execution_count": 28,
   "id": "63560fbb",
   "metadata": {},
   "outputs": [
    {
     "data": {
      "text/plain": [
       "House Floor Area\n",
       "30     2976\n",
       "20     2903\n",
       "40     2643\n",
       "50     2237\n",
       "80     1838\n",
       "       ... \n",
       "279       1\n",
       "275       1\n",
       "226       1\n",
       "254       1\n",
       "151       1\n",
       "Name: count, Length: 313, dtype: int64"
      ]
     },
     "execution_count": 28,
     "metadata": {},
     "output_type": "execute_result"
    }
   ],
   "source": [
    "cencus['House Floor Area'].value_counts()"
   ]
  },
  {
   "cell_type": "code",
   "execution_count": 29,
   "id": "7709ba70",
   "metadata": {},
   "outputs": [
    {
     "data": {
      "text/plain": [
       "House Age\n",
       "15     3382\n",
       "25     2206\n",
       "20     2072\n",
       "35     1559\n",
       "5      1553\n",
       "       ... \n",
       "105       1\n",
       "200       1\n",
       "91        1\n",
       "94        1\n",
       "132       1\n",
       "Name: count, Length: 111, dtype: int64"
      ]
     },
     "execution_count": 29,
     "metadata": {},
     "output_type": "execute_result"
    }
   ],
   "source": [
    "cencus['House Age'].value_counts()"
   ]
  },
  {
   "cell_type": "code",
   "execution_count": 30,
   "id": "51386bf9",
   "metadata": {},
   "outputs": [
    {
     "data": {
      "text/plain": [
       "Number of bedrooms\n",
       "2    15456\n",
       "1    13431\n",
       "3     6111\n",
       "0     3930\n",
       "4     1875\n",
       "5      484\n",
       "6      169\n",
       "7       46\n",
       "8       29\n",
       "9       13\n",
       "Name: count, dtype: int64"
      ]
     },
     "execution_count": 30,
     "metadata": {},
     "output_type": "execute_result"
    }
   ],
   "source": [
    "cencus['Number of bedrooms'].value_counts()"
   ]
  },
  {
   "cell_type": "code",
   "execution_count": 31,
   "id": "a6605ce5",
   "metadata": {},
   "outputs": [
    {
     "data": {
      "text/plain": [
       "Tenure Status\n",
       "Own or owner-like possession of house and lot        29541\n",
       "Own house, rent-free lot with consent of owner        6165\n",
       "Rent house/room including lot                         2203\n",
       "Rent-free house and lot with consent of owner         2014\n",
       "Own house, rent-free lot without consent of owner      995\n",
       "Own house, rent lot                                    425\n",
       "Rent-free house and lot without consent of owner       128\n",
       "Not Applicable                                          73\n",
       "Name: count, dtype: int64"
      ]
     },
     "execution_count": 31,
     "metadata": {},
     "output_type": "execute_result"
    }
   ],
   "source": [
    "cencus['Tenure Status'].value_counts()"
   ]
  },
  {
   "cell_type": "code",
   "execution_count": 32,
   "id": "f9debde6",
   "metadata": {},
   "outputs": [
    {
     "data": {
      "text/plain": [
       "Toilet Facilities\n",
       "Water-sealed, sewer septic tank, used exclusively by household    29162\n",
       "Water-sealed, sewer septic tank, shared with other household       3694\n",
       "Water-sealed, other depository, used exclusively by household      2343\n",
       "Closed pit                                                         2273\n",
       "Open pit                                                           1189\n",
       "Water-sealed, other depository, shared with other household         950\n",
       "Others                                                              353\n",
       "Name: count, dtype: int64"
      ]
     },
     "execution_count": 32,
     "metadata": {},
     "output_type": "execute_result"
    }
   ],
   "source": [
    "cencus['Toilet Facilities'].value_counts()"
   ]
  },
  {
   "cell_type": "code",
   "execution_count": 33,
   "id": "52ee8312",
   "metadata": {},
   "outputs": [
    {
     "data": {
      "text/plain": [
       "Electricity\n",
       "1    37008\n",
       "0     4536\n",
       "Name: count, dtype: int64"
      ]
     },
     "execution_count": 33,
     "metadata": {},
     "output_type": "execute_result"
    }
   ],
   "source": [
    "cencus['Electricity'].value_counts()"
   ]
  },
  {
   "cell_type": "code",
   "execution_count": 34,
   "id": "96f3b1e5",
   "metadata": {},
   "outputs": [
    {
     "data": {
      "text/plain": [
       "Main Source of Water Supply\n",
       "Own use, faucet, community water system    16093\n",
       "Shared, tubed/piped deep well               6242\n",
       "Shared, faucet, community water system      4614\n",
       "Own use, tubed/piped deep well              4587\n",
       "Dug well                                    3876\n",
       "Protected spring, river, stream, etc        2657\n",
       "Tubed/piped shallow well                    1394\n",
       "Peddler                                      851\n",
       "Unprotected spring, river, stream, etc       607\n",
       "Lake, river, rain and others                 496\n",
       "Others                                       127\n",
       "Name: count, dtype: int64"
      ]
     },
     "execution_count": 34,
     "metadata": {},
     "output_type": "execute_result"
    }
   ],
   "source": [
    "cencus['Main Source of Water Supply'].value_counts()"
   ]
  },
  {
   "cell_type": "code",
   "execution_count": 35,
   "id": "a5c4475f",
   "metadata": {},
   "outputs": [
    {
     "data": {
      "text/plain": [
       "Number of Television\n",
       "1    27089\n",
       "0    10717\n",
       "2     2955\n",
       "3      597\n",
       "4      133\n",
       "5       42\n",
       "6       11\n",
       "Name: count, dtype: int64"
      ]
     },
     "execution_count": 35,
     "metadata": {},
     "output_type": "execute_result"
    }
   ],
   "source": [
    "cencus['Number of Television'].value_counts()"
   ]
  },
  {
   "cell_type": "code",
   "execution_count": 36,
   "id": "41bed4ac",
   "metadata": {},
   "outputs": [
    {
     "data": {
      "text/plain": [
       "Number of CD/VCD/DVD\n",
       "0    24621\n",
       "1    15983\n",
       "2      752\n",
       "3      163\n",
       "4       20\n",
       "5        5\n",
       "Name: count, dtype: int64"
      ]
     },
     "execution_count": 36,
     "metadata": {},
     "output_type": "execute_result"
    }
   ],
   "source": [
    "cencus['Number of CD/VCD/DVD'].value_counts()"
   ]
  },
  {
   "cell_type": "code",
   "execution_count": 37,
   "id": "84295c9d",
   "metadata": {},
   "outputs": [
    {
     "data": {
      "text/plain": [
       "Number of Component/Stereo set\n",
       "0    35058\n",
       "1     6284\n",
       "2      174\n",
       "3       13\n",
       "4       10\n",
       "5        5\n",
       "Name: count, dtype: int64"
      ]
     },
     "execution_count": 37,
     "metadata": {},
     "output_type": "execute_result"
    }
   ],
   "source": [
    "cencus['Number of Component/Stereo set'].value_counts()"
   ]
  },
  {
   "cell_type": "code",
   "execution_count": 38,
   "id": "8a257daa",
   "metadata": {},
   "outputs": [
    {
     "data": {
      "text/plain": [
       "Number of Refrigerator/Freezer\n",
       "0    25990\n",
       "1    14881\n",
       "2      569\n",
       "3       73\n",
       "4       17\n",
       "5       14\n",
       "Name: count, dtype: int64"
      ]
     },
     "execution_count": 38,
     "metadata": {},
     "output_type": "execute_result"
    }
   ],
   "source": [
    "cencus['Number of Refrigerator/Freezer'].value_counts()"
   ]
  },
  {
   "cell_type": "code",
   "execution_count": 39,
   "id": "d30199b5",
   "metadata": {},
   "outputs": [
    {
     "data": {
      "text/plain": [
       "Number of Washing Machine\n",
       "0    28484\n",
       "1    12845\n",
       "2      204\n",
       "3       11\n",
       "Name: count, dtype: int64"
      ]
     },
     "execution_count": 39,
     "metadata": {},
     "output_type": "execute_result"
    }
   ],
   "source": [
    "cencus['Number of Washing Machine'].value_counts()"
   ]
  },
  {
   "cell_type": "code",
   "execution_count": 40,
   "id": "0722637b",
   "metadata": {},
   "outputs": [
    {
     "data": {
      "text/plain": [
       "Number of Washing Machine\n",
       "0    28484\n",
       "1    12845\n",
       "2      204\n",
       "3       11\n",
       "Name: count, dtype: int64"
      ]
     },
     "execution_count": 40,
     "metadata": {},
     "output_type": "execute_result"
    }
   ],
   "source": [
    "cencus['Number of Washing Machine'].value_counts()"
   ]
  },
  {
   "cell_type": "code",
   "execution_count": 41,
   "id": "89973fa3",
   "metadata": {},
   "outputs": [
    {
     "data": {
      "text/plain": [
       "Number of Airconditioner\n",
       "0    37457\n",
       "1     3178\n",
       "2      622\n",
       "3      199\n",
       "4       66\n",
       "5       22\n",
       "Name: count, dtype: int64"
      ]
     },
     "execution_count": 41,
     "metadata": {},
     "output_type": "execute_result"
    }
   ],
   "source": [
    "cencus['Number of Airconditioner'].value_counts()"
   ]
  },
  {
   "cell_type": "code",
   "execution_count": 42,
   "id": "be31e47d",
   "metadata": {},
   "outputs": [
    {
     "data": {
      "text/plain": [
       "Number of Car, Jeep, Van\n",
       "0    38876\n",
       "1     2136\n",
       "2      413\n",
       "3       77\n",
       "4       29\n",
       "5       13\n",
       "Name: count, dtype: int64"
      ]
     },
     "execution_count": 42,
     "metadata": {},
     "output_type": "execute_result"
    }
   ],
   "source": [
    "cencus['Number of Car, Jeep, Van'].value_counts()"
   ]
  },
  {
   "cell_type": "code",
   "execution_count": 43,
   "id": "50b9147f",
   "metadata": {},
   "outputs": [
    {
     "data": {
      "text/plain": [
       "Number of Landline/wireless telephones\n",
       "0    39302\n",
       "1     2070\n",
       "2       96\n",
       "3       48\n",
       "4       28\n",
       "Name: count, dtype: int64"
      ]
     },
     "execution_count": 43,
     "metadata": {},
     "output_type": "execute_result"
    }
   ],
   "source": [
    "cencus['Number of Landline/wireless telephones'].value_counts()"
   ]
  },
  {
   "cell_type": "code",
   "execution_count": 44,
   "id": "123c184c",
   "metadata": {},
   "outputs": [
    {
     "data": {
      "text/plain": [
       "Number of Cellular phone\n",
       "1     12484\n",
       "2     10377\n",
       "0      6939\n",
       "3      5820\n",
       "4      3281\n",
       "5      1467\n",
       "6       666\n",
       "7       242\n",
       "8       153\n",
       "10       66\n",
       "9        49\n",
       "Name: count, dtype: int64"
      ]
     },
     "execution_count": 44,
     "metadata": {},
     "output_type": "execute_result"
    }
   ],
   "source": [
    "cencus['Number of Cellular phone'].value_counts()"
   ]
  },
  {
   "cell_type": "code",
   "execution_count": 45,
   "id": "24bee333",
   "metadata": {},
   "outputs": [
    {
     "data": {
      "text/plain": [
       "Number of Personal Computer\n",
       "0    32988\n",
       "1     5650\n",
       "2     1836\n",
       "3      667\n",
       "4      271\n",
       "5      112\n",
       "6       20\n",
       "Name: count, dtype: int64"
      ]
     },
     "execution_count": 45,
     "metadata": {},
     "output_type": "execute_result"
    }
   ],
   "source": [
    "cencus['Number of Personal Computer'].value_counts()"
   ]
  },
  {
   "cell_type": "code",
   "execution_count": 46,
   "id": "1744f099",
   "metadata": {},
   "outputs": [
    {
     "data": {
      "text/plain": [
       "Number of Stove with Oven/Gas Range\n",
       "0    36101\n",
       "1     5287\n",
       "2      145\n",
       "3       11\n",
       "Name: count, dtype: int64"
      ]
     },
     "execution_count": 46,
     "metadata": {},
     "output_type": "execute_result"
    }
   ],
   "source": [
    "cencus['Number of Stove with Oven/Gas Range'].value_counts()"
   ]
  },
  {
   "cell_type": "code",
   "execution_count": 47,
   "id": "0cf8ad54",
   "metadata": {},
   "outputs": [
    {
     "data": {
      "text/plain": [
       "Number of Motorized Banca\n",
       "0    41055\n",
       "1      444\n",
       "2       34\n",
       "3       11\n",
       "Name: count, dtype: int64"
      ]
     },
     "execution_count": 47,
     "metadata": {},
     "output_type": "execute_result"
    }
   ],
   "source": [
    "cencus['Number of Motorized Banca'].value_counts()"
   ]
  },
  {
   "cell_type": "code",
   "execution_count": 48,
   "id": "34c4b312",
   "metadata": {},
   "outputs": [
    {
     "data": {
      "text/plain": [
       "Number of Motorcycle/Tricycle\n",
       "0    31282\n",
       "1     8811\n",
       "2     1199\n",
       "3      186\n",
       "4       54\n",
       "5       12\n",
       "Name: count, dtype: int64"
      ]
     },
     "execution_count": 48,
     "metadata": {},
     "output_type": "execute_result"
    }
   ],
   "source": [
    "cencus['Number of Motorcycle/Tricycle'].value_counts()"
   ]
  },
  {
   "cell_type": "markdown",
   "id": "3ca3dc16",
   "metadata": {},
   "source": [
    "<h1>Exploratory Data Analysis<h1>"
   ]
  },
  {
   "cell_type": "code",
   "execution_count": 49,
   "id": "5994608b",
   "metadata": {},
   "outputs": [],
   "source": [
    "census = pd.read_csv(\"Family Income and Expenditure.csv\")"
   ]
  },
  {
   "cell_type": "code",
   "execution_count": 66,
   "id": "19d4dd00",
   "metadata": {},
   "outputs": [
    {
     "data": {
      "text/plain": [
       "Total Household Income       int64\n",
       "Region                    category\n",
       "Total Food Expenditure       int64\n",
       "Main Source of Income     category\n",
       "dtype: object"
      ]
     },
     "execution_count": 66,
     "metadata": {},
     "output_type": "execute_result"
    }
   ],
   "source": [
    "#getting the objects dtypes columns \n",
    "object_cols = cencus.select_dtypes(include=['object']).columns.tolist()\n",
    "object_cols\n",
    "\n",
    "#converting objects into category \n",
    "for column in object_cols:\n",
    "    cencus[column] = cencus[column].astype('category')\n",
    "\n",
    "cencus.dtypes.head(4)"
   ]
  },
  {
   "cell_type": "code",
   "execution_count": 117,
   "id": "ea9ef3f7",
   "metadata": {},
   "outputs": [],
   "source": [
    "#Dividing region in 3 main island Luzonl, visasyas, and mindanao\n",
    "luzon_list = ['CAR', 'NCR', 'III - Central Luzon', 'V - Bicol Region', 'I - Ilocos Region', 'II - Cagayan Valley', 'IVA - CALABARZON', 'IVB - MIMAROPA']\n",
    "\n",
    "visayas_regions_list = ['VI - Western Visayas', 'VII - Central Visayas', 'VIII - Eastern Visayas']\n",
    "mindanao_regions_list = ['Caraga', 'ARMM', 'X - Northern Mindanao', 'XI - Davao Region', 'XII - SOCCSKSARGEN', 'IX - Zamboanga Peninsula']\n",
    "\n",
    "luzon = census[census['Region'].isin(luzon_list)]\n",
    "\n",
    "visayas = census[census['Region'].isin(visayas_regions_list)]\n",
    "mindanao = census[census['Region'].isin(mindanao_regions_list)]\n"
   ]
  },
  {
   "cell_type": "markdown",
   "id": "d7d17544",
   "metadata": {},
   "source": [
    "<h2>1. Regional Cost of Living: Where Survival Is Hardest</h2>\n"
   ]
  },
  {
   "cell_type": "code",
   "execution_count": 51,
   "id": "340b60c9",
   "metadata": {},
   "outputs": [],
   "source": [
    "#jp1  (example update ni steven)"
   ]
  },
  {
   "cell_type": "markdown",
   "id": "deb74b72",
   "metadata": {},
   "source": [
    "<h2>2. The Regional “Saving Gap”: Which Regions Can Actually Save?</h2>\n"
   ]
  },
  {
   "cell_type": "code",
   "execution_count": 52,
   "id": "42182b0d",
   "metadata": {},
   "outputs": [],
   "source": [
    "#jp2"
   ]
  },
  {
   "cell_type": "markdown",
   "id": "bd202bdd",
   "metadata": {},
   "source": [
    "<h2>3. Are Rural or Urban Households More Financially Vulnerable?</h2>\n"
   ]
  },
  {
   "cell_type": "code",
   "execution_count": 53,
   "id": "ab4883c0",
   "metadata": {},
   "outputs": [],
   "source": [
    "#jp3"
   ]
  },
  {
   "cell_type": "markdown",
   "id": "79f08154",
   "metadata": {},
   "source": [
    "<h2>4. The Hidden Poverty Behind the Walls</h2>\n"
   ]
  },
  {
   "cell_type": "code",
   "execution_count": 54,
   "id": "150df3c0",
   "metadata": {},
   "outputs": [],
   "source": [
    "#jp4"
   ]
  },
  {
   "cell_type": "markdown",
   "id": "f2197d7b",
   "metadata": {},
   "source": [
    "<h2>5. “Imputed Rental” Inequality</h2>\n"
   ]
  },
  {
   "cell_type": "code",
   "execution_count": null,
   "id": "1b18b27d",
   "metadata": {},
   "outputs": [
    {
     "data": {
      "image/png": "[encoded data removed]",
      "text/plain": [
       "<Figure size 1500x600 with 1 Axes>"
      ]
     },
     "metadata": {},
     "output_type": "display_data"
    }
   ],
   "source": [
    "census['Total Household Income']\n",
    "imputed_rental_per_region = luzon.groupby(['Region'])['Imputed House Rental Value'].mean()\n",
    "plt.figure(figsize=(15, 6))  \n",
    "plt.title('Comparission of Imputed value of rent in Luzon')\n",
    "plt.xlabel('regions')\n",
    "plt.ylabel('Peso')\n",
    "plt.bar(imputed_rental_per_region.index, imputed_rental_per_region.values)\n",
    "plt.show()\n"
   ]
  },
  {
   "cell_type": "code",
   "execution_count": 112,
   "id": "f2e407fc",
   "metadata": {},
   "outputs": [
    {
     "data": {
      "image/png": "[encoded data removed]",
      "text/plain": [
       "<Figure size 1000x600 with 1 Axes>"
      ]
     },
     "metadata": {},
     "output_type": "display_data"
    }
   ],
   "source": [
    "\n",
    "imputed_rental_per_region = visayas.groupby(['Region'])['Imputed House Rental Value'].mean()\n",
    "plt.figure(figsize=(10, 6))  \n",
    "plt.title('Comparission of Imputed value of rent in Visayas')\n",
    "plt.xlabel('regions')\n",
    "plt.ylabel('Peso')\n",
    "plt.bar(imputed_rental_per_region.index, imputed_rental_per_region.values)\n",
    "plt.show()\n"
   ]
  },
  {
   "cell_type": "code",
   "execution_count": 113,
   "id": "e653826c",
   "metadata": {},
   "outputs": [
    {
     "data": {
      "image/png": "[encoded data removed]",
      "text/plain": [
       "<Figure size 1000x600 with 1 Axes>"
      ]
     },
     "metadata": {},
     "output_type": "display_data"
    }
   ],
   "source": [
    "\n",
    "imputed_rental_per_region = mindanao.groupby(['Region'])['Imputed House Rental Value'].mean()\n",
    "plt.figure(figsize=(10, 6))  \n",
    "plt.title('Comparission of Imputed value of rent in Visayas')\n",
    "plt.xlabel('regions')\n",
    "plt.ylabel('Peso')\n",
    "plt.bar(imputed_rental_per_region.index, imputed_rental_per_region.values)\n",
    "plt.show()\n"
   ]
  },
  {
   "cell_type": "markdown",
   "id": "9748995e",
   "metadata": {},
   "source": [
    "<h2>6. Toilet & Water Access as a Poverty Indicator</h2>\n"
   ]
  },
  {
   "cell_type": "code",
   "execution_count": 118,
   "id": "0aa7a033",
   "metadata": {},
   "outputs": [
    {
     "data": {
      "text/plain": [
       "Toilet Facilities\n",
       "Water-sealed, sewer septic tank, used exclusively by household    29162\n",
       "Water-sealed, sewer septic tank, shared with other household       3694\n",
       "Water-sealed, other depository, used exclusively by household      2343\n",
       "Closed pit                                                         2273\n",
       "Open pit                                                           1189\n",
       "Water-sealed, other depository, shared with other household         950\n",
       "Others                                                              353\n",
       "Name: count, dtype: int64"
      ]
     },
     "execution_count": 118,
     "metadata": {},
     "output_type": "execute_result"
    }
   ],
   "source": [
    "#steven\n",
    "census['Toilet Facilities'].value_counts()"
   ]
  },
  {
   "cell_type": "markdown",
   "id": "608c74e4",
   "metadata": {},
   "source": [
    "<h2>7. Large Families, Small Budgets</h2>\n"
   ]
  },
  {
   "cell_type": "code",
   "execution_count": null,
   "id": "3209466d",
   "metadata": {},
   "outputs": [],
   "source": [
    "#steven"
   ]
  },
  {
   "cell_type": "markdown",
   "id": "13134dfb",
   "metadata": {},
   "source": [
    "<h2>8. Does Education Suffer with More Kids?</h2>\n"
   ]
  },
  {
   "cell_type": "code",
   "execution_count": 57,
   "id": "9711e1ac",
   "metadata": {},
   "outputs": [],
   "source": [
    "#jp5"
   ]
  },
  {
   "cell_type": "markdown",
   "id": "5ec39d23",
   "metadata": {},
   "source": [
    "<h2>9. Child-Heavy Households and Poverty Correlation</h2>\n"
   ]
  },
  {
   "cell_type": "code",
   "execution_count": null,
   "id": "a01ff417",
   "metadata": {},
   "outputs": [],
   "source": [
    "#steven"
   ]
  },
  {
   "cell_type": "markdown",
   "id": "0caa6ea7",
   "metadata": {},
   "source": [
    "<h2>10. Who Are the Working Poor?</h2>\n"
   ]
  },
  {
   "cell_type": "code",
   "execution_count": null,
   "id": "6a6204a1",
   "metadata": {},
   "outputs": [],
   "source": [
    "#steven"
   ]
  },
  {
   "cell_type": "markdown",
   "id": "dbca64ce",
   "metadata": {},
   "source": [
    "<h2>11. Entrepreneurial Families: Are They Better Off?</h2>\n"
   ]
  },
  {
   "cell_type": "code",
   "execution_count": null,
   "id": "6633062e",
   "metadata": {},
   "outputs": [],
   "source": [
    "#steven"
   ]
  },
  {
   "cell_type": "markdown",
   "id": "ef22d329",
   "metadata": {},
   "source": [
    "<h2>12. Occupation vs. Income Ranking</h2>\n"
   ]
  },
  {
   "cell_type": "code",
   "execution_count": null,
   "id": "eb910d72",
   "metadata": {},
   "outputs": [],
   "source": [
    "#steen"
   ]
  },
  {
   "cell_type": "markdown",
   "id": "dec6febe",
   "metadata": {},
   "source": [
    "<h2>13. Food vs. Vices</h2>\n"
   ]
  },
  {
   "cell_type": "code",
   "execution_count": null,
   "id": "cba7a675",
   "metadata": {},
   "outputs": [],
   "source": [
    "#steven"
   ]
  },
  {
   "cell_type": "markdown",
   "id": "97805335",
   "metadata": {},
   "source": [
    "<h2>14. Education vs. Entertainment Spending</h2>\n"
   ]
  },
  {
   "cell_type": "code",
   "execution_count": 58,
   "id": "09b188a5",
   "metadata": {},
   "outputs": [],
   "source": [
    "#jp6"
   ]
  },
  {
   "cell_type": "markdown",
   "id": "3de9330d",
   "metadata": {},
   "source": [
    "<h2>15. Medical vs. Special Occasions: What Hurts Families Most?</h2>\n"
   ]
  },
  {
   "cell_type": "code",
   "execution_count": 59,
   "id": "757f6177",
   "metadata": {},
   "outputs": [],
   "source": [
    "#jp7"
   ]
  },
  {
   "cell_type": "markdown",
   "id": "c1a4f182",
   "metadata": {},
   "source": [
    "<h2>16. Digital Divide Across Regions</h2>\n"
   ]
  },
  {
   "cell_type": "code",
   "execution_count": null,
   "id": "a6a36a95",
   "metadata": {},
   "outputs": [],
   "source": [
    "#steven"
   ]
  },
  {
   "cell_type": "markdown",
   "id": "5255a96a",
   "metadata": {},
   "source": [
    "<h2>17. Are Airconditioners and Cars a Sign of Wealth?</h2>\n"
   ]
  },
  {
   "cell_type": "code",
   "execution_count": 60,
   "id": "86e3113e",
   "metadata": {},
   "outputs": [],
   "source": [
    "#jp8"
   ]
  },
  {
   "cell_type": "markdown",
   "id": "8ee6b564",
   "metadata": {},
   "source": [
    "<h2>18. Appliance Ownership vs. Basic Needs</h2>\n"
   ]
  },
  {
   "cell_type": "code",
   "execution_count": null,
   "id": "bf703d53",
   "metadata": {},
   "outputs": [],
   "source": [
    "#steven"
   ]
  },
  {
   "cell_type": "markdown",
   "id": "63e8a07b",
   "metadata": {},
   "source": [
    "<h2>19. Does the Head’s Education Affect Household Income?</h2>\n"
   ]
  },
  {
   "cell_type": "code",
   "execution_count": null,
   "id": "969398a9",
   "metadata": {},
   "outputs": [],
   "source": [
    "#steven"
   ]
  },
  {
   "cell_type": "markdown",
   "id": "4a1ee21a",
   "metadata": {},
   "source": [
    "<h2>20. Are Educated Heads Better at Budgeting?</h2>\n"
   ]
  },
  {
   "cell_type": "code",
   "execution_count": null,
   "id": "28d36ff5",
   "metadata": {},
   "outputs": [],
   "source": [
    "#steven "
   ]
  },
  {
   "cell_type": "markdown",
   "id": "6b8f8f78",
   "metadata": {},
   "source": [
    "<h2>21. The “Invisible Rich”: Low Income, High Assets</h2>\n"
   ]
  },
  {
   "cell_type": "code",
   "execution_count": null,
   "id": "5eb74b47",
   "metadata": {},
   "outputs": [],
   "source": [
    "#steven"
   ]
  },
  {
   "cell_type": "markdown",
   "id": "b1dc7ef1",
   "metadata": {},
   "source": [
    "<h2>22. High Expenditure, Low Income = Debt?</h2>\n"
   ]
  },
  {
   "cell_type": "code",
   "execution_count": null,
   "id": "4d9ac5c3",
   "metadata": {},
   "outputs": [],
   "source": [
    "#steven"
   ]
  },
  {
   "cell_type": "markdown",
   "id": "08e833ad",
   "metadata": {},
   "source": [
    "<h2>23. Senior-Headed Households: Are They Poorer?</h2>\n"
   ]
  },
  {
   "cell_type": "code",
   "execution_count": null,
   "id": "3cb82e86",
   "metadata": {},
   "outputs": [],
   "source": [
    "#steven"
   ]
  },
  {
   "cell_type": "markdown",
   "id": "687ac60d",
   "metadata": {},
   "source": [
    "<h2>24. Gender and Poverty</h2>\n"
   ]
  },
  {
   "cell_type": "code",
   "execution_count": 61,
   "id": "01e861a5",
   "metadata": {},
   "outputs": [],
   "source": [
    "#jp9"
   ]
  },
  {
   "cell_type": "markdown",
   "id": "f28cbacc",
   "metadata": {},
   "source": [
    "<h2>25. Who Spends More on Transportation?</h2>\n"
   ]
  },
  {
   "cell_type": "code",
   "execution_count": 62,
   "id": "4a8241d3",
   "metadata": {},
   "outputs": [],
   "source": [
    "#jp10"
   ]
  }
 ],
 "metadata": {
  "kernelspec": {
   "display_name": "Python 3",
   "language": "python",
   "name": "python3"
  },
  "language_info": {
   "codemirror_mode": {
    "name": "ipython",
    "version": 3
   },
   "file_extension": ".py",
   "mimetype": "text/x-python",
   "name": "python",
   "nbconvert_exporter": "python",
   "pygments_lexer": "ipython3",
   "version": "3.13.3"
  }
 },
 "nbformat": 4,
 "nbformat_minor": 5
}
